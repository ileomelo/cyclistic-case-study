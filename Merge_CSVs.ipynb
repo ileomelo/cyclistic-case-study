{
 "cells": [
  {
   "cell_type": "code",
   "execution_count": 1,
   "id": "c1bf5a1f",
   "metadata": {},
   "outputs": [],
   "source": [
    "import glob\n",
    "import pandas as pd\n",
    "import os"
   ]
  },
  {
   "cell_type": "code",
   "execution_count": 2,
   "id": "625d5b0b",
   "metadata": {},
   "outputs": [],
   "source": [
    "# Caminho da pasta onde estão os arquivos CSV\n",
    "caminho_pasta = 'CSVs'\n",
    "\n",
    "# Padrão para encontrar todos os arquivos CSV\n",
    "todos_csvs = glob.glob(os.path.join(caminho_pasta, '*.csv'))\n",
    "\n",
    "# Lista para armazenar os DataFrames\n",
    "lista_dfs = []\n",
    "\n",
    "# Lê cada CSV e adiciona na lista\n",
    "for arquivo in todos_csvs:\n",
    "    df_separados = pd.read_csv(arquivo)\n",
    "    lista_dfs.append(df_separados)\n",
    "\n",
    "# Une todos os DataFrames\n",
    "df = pd.concat(lista_dfs, ignore_index=True)\n",
    "\n",
    "# Salva o CSV final\n",
    "df.to_csv('arquivo_final.csv', index=False)"
   ]
  }
 ],
 "metadata": {
  "kernelspec": {
   "display_name": ".venv",
   "language": "python",
   "name": "python3"
  },
  "language_info": {
   "codemirror_mode": {
    "name": "ipython",
    "version": 3
   },
   "file_extension": ".py",
   "mimetype": "text/x-python",
   "name": "python",
   "nbconvert_exporter": "python",
   "pygments_lexer": "ipython3",
   "version": "3.11.11"
  }
 },
 "nbformat": 4,
 "nbformat_minor": 5
}
